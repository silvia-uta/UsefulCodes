{
 "cells": [
  {
   "cell_type": "code",
   "execution_count": 1,
   "metadata": {},
   "outputs": [
    {
     "data": {
      "application/javascript": [
       "$('<div id=\"toc\"></div>').css({position: 'fixed', top: '120px', left: 0}).appendTo(document.body);\n",
       "$.getScript('https://kmahelona.github.io/ipython_notebook_goodies/ipython_notebook_toc.js');\n"
      ],
      "text/plain": [
       "<IPython.core.display.Javascript object>"
      ]
     },
     "metadata": {},
     "output_type": "display_data"
    }
   ],
   "source": [
    "%%javascript\n",
    "$('<div id=\"toc\"></div>').css({position: 'fixed', top: '120px', left: 0}).appendTo(document.body);\n",
    "$.getScript('https://kmahelona.github.io/ipython_notebook_goodies/ipython_notebook_toc.js');"
   ]
  },
  {
   "cell_type": "code",
   "execution_count": 8,
   "metadata": {
    "scrolled": true
   },
   "outputs": [
    {
     "name": "stdout",
     "output_type": "stream",
     "text": [
      "Creating directory structure\r\n",
      "Copying necessary files\r\n",
      "Traceback (most recent call last):\r\n",
      "  File \"/Users/silvia/Desktop/jupyter-navbar-master/setup.py\", line 32, in <module>\r\n",
      "    shutil.copyfile(name, target)\r\n",
      "  File \"/Users/silvia/opt/anaconda3/lib/python3.7/shutil.py\", line 120, in copyfile\r\n",
      "    with open(src, 'rb') as fsrc:\r\n",
      "FileNotFoundError: [Errno 2] No such file or directory: 'navbar.css'\r\n"
     ]
    }
   ],
   "source": [
    "!/Users/silvia/opt/anaconda3/bin/python3 /Users/silvia/Desktop/jupyter-navbar-master/setup.py"
   ]
  },
  {
   "cell_type": "code",
   "execution_count": 57,
   "metadata": {},
   "outputs": [],
   "source": [
    "import numpy as np\n",
    "import pandas as pd"
   ]
  },
  {
   "cell_type": "code",
   "execution_count": 128,
   "metadata": {},
   "outputs": [],
   "source": [
    "alp = [chr(x) for x in range(ord('a'), ord('z') + 1)]"
   ]
  },
  {
   "cell_type": "code",
   "execution_count": 70,
   "metadata": {},
   "outputs": [
    {
     "data": {
      "text/html": [
       "<div>\n",
       "<style scoped>\n",
       "    .dataframe tbody tr th:only-of-type {\n",
       "        vertical-align: middle;\n",
       "    }\n",
       "\n",
       "    .dataframe tbody tr th {\n",
       "        vertical-align: top;\n",
       "    }\n",
       "\n",
       "    .dataframe thead th {\n",
       "        text-align: right;\n",
       "    }\n",
       "</style>\n",
       "<table border=\"1\" class=\"dataframe\">\n",
       "  <thead>\n",
       "    <tr style=\"text-align: right;\">\n",
       "      <th></th>\n",
       "      <th>Y</th>\n",
       "      <th>a</th>\n",
       "      <th>b</th>\n",
       "      <th>c</th>\n",
       "      <th>d</th>\n",
       "      <th>e</th>\n",
       "      <th>f</th>\n",
       "      <th>g</th>\n",
       "      <th>h</th>\n",
       "      <th>i</th>\n",
       "    </tr>\n",
       "  </thead>\n",
       "  <tbody>\n",
       "    <tr>\n",
       "      <th>0</th>\n",
       "      <td>0.387529</td>\n",
       "      <td>0.425310</td>\n",
       "      <td>0.510009</td>\n",
       "      <td>0.531293</td>\n",
       "      <td>0.879415</td>\n",
       "      <td>0.717303</td>\n",
       "      <td>0.498320</td>\n",
       "      <td>0.029916</td>\n",
       "      <td>0.712675</td>\n",
       "      <td>0.490898</td>\n",
       "    </tr>\n",
       "    <tr>\n",
       "      <th>1</th>\n",
       "      <td>0.864926</td>\n",
       "      <td>0.401659</td>\n",
       "      <td>0.798173</td>\n",
       "      <td>0.369426</td>\n",
       "      <td>0.491640</td>\n",
       "      <td>0.701778</td>\n",
       "      <td>0.210393</td>\n",
       "      <td>0.699185</td>\n",
       "      <td>0.782519</td>\n",
       "      <td>0.759716</td>\n",
       "    </tr>\n",
       "    <tr>\n",
       "      <th>2</th>\n",
       "      <td>0.730754</td>\n",
       "      <td>0.238299</td>\n",
       "      <td>0.948557</td>\n",
       "      <td>0.277242</td>\n",
       "      <td>0.296627</td>\n",
       "      <td>0.539865</td>\n",
       "      <td>0.066170</td>\n",
       "      <td>0.037404</td>\n",
       "      <td>0.993835</td>\n",
       "      <td>0.040385</td>\n",
       "    </tr>\n",
       "    <tr>\n",
       "      <th>3</th>\n",
       "      <td>0.123258</td>\n",
       "      <td>0.162917</td>\n",
       "      <td>0.169395</td>\n",
       "      <td>0.256439</td>\n",
       "      <td>0.698971</td>\n",
       "      <td>0.811325</td>\n",
       "      <td>0.807450</td>\n",
       "      <td>0.437022</td>\n",
       "      <td>0.468562</td>\n",
       "      <td>0.087723</td>\n",
       "    </tr>\n",
       "    <tr>\n",
       "      <th>4</th>\n",
       "      <td>0.732579</td>\n",
       "      <td>0.251616</td>\n",
       "      <td>0.434659</td>\n",
       "      <td>0.635124</td>\n",
       "      <td>0.250221</td>\n",
       "      <td>0.418606</td>\n",
       "      <td>0.069816</td>\n",
       "      <td>0.653540</td>\n",
       "      <td>0.382762</td>\n",
       "      <td>0.783074</td>\n",
       "    </tr>\n",
       "    <tr>\n",
       "      <th>...</th>\n",
       "      <td>...</td>\n",
       "      <td>...</td>\n",
       "      <td>...</td>\n",
       "      <td>...</td>\n",
       "      <td>...</td>\n",
       "      <td>...</td>\n",
       "      <td>...</td>\n",
       "      <td>...</td>\n",
       "      <td>...</td>\n",
       "      <td>...</td>\n",
       "    </tr>\n",
       "    <tr>\n",
       "      <th>95</th>\n",
       "      <td>0.827119</td>\n",
       "      <td>0.619119</td>\n",
       "      <td>0.760110</td>\n",
       "      <td>0.902035</td>\n",
       "      <td>0.793325</td>\n",
       "      <td>0.549889</td>\n",
       "      <td>0.700301</td>\n",
       "      <td>0.340021</td>\n",
       "      <td>0.946308</td>\n",
       "      <td>0.943755</td>\n",
       "    </tr>\n",
       "    <tr>\n",
       "      <th>96</th>\n",
       "      <td>0.910496</td>\n",
       "      <td>0.448485</td>\n",
       "      <td>0.441120</td>\n",
       "      <td>0.090961</td>\n",
       "      <td>0.040780</td>\n",
       "      <td>0.518264</td>\n",
       "      <td>0.175147</td>\n",
       "      <td>0.062928</td>\n",
       "      <td>0.103730</td>\n",
       "      <td>0.529514</td>\n",
       "    </tr>\n",
       "    <tr>\n",
       "      <th>97</th>\n",
       "      <td>0.977979</td>\n",
       "      <td>0.995433</td>\n",
       "      <td>0.524310</td>\n",
       "      <td>0.004351</td>\n",
       "      <td>0.474944</td>\n",
       "      <td>0.526743</td>\n",
       "      <td>0.425037</td>\n",
       "      <td>0.179344</td>\n",
       "      <td>0.046495</td>\n",
       "      <td>0.122892</td>\n",
       "    </tr>\n",
       "    <tr>\n",
       "      <th>98</th>\n",
       "      <td>0.743542</td>\n",
       "      <td>0.173305</td>\n",
       "      <td>0.431242</td>\n",
       "      <td>0.419274</td>\n",
       "      <td>0.361661</td>\n",
       "      <td>0.960040</td>\n",
       "      <td>0.216498</td>\n",
       "      <td>0.773711</td>\n",
       "      <td>0.177325</td>\n",
       "      <td>0.886849</td>\n",
       "    </tr>\n",
       "    <tr>\n",
       "      <th>99</th>\n",
       "      <td>0.919377</td>\n",
       "      <td>0.680064</td>\n",
       "      <td>0.264393</td>\n",
       "      <td>0.296932</td>\n",
       "      <td>0.932704</td>\n",
       "      <td>0.696012</td>\n",
       "      <td>0.905913</td>\n",
       "      <td>0.560505</td>\n",
       "      <td>0.404454</td>\n",
       "      <td>0.740446</td>\n",
       "    </tr>\n",
       "  </tbody>\n",
       "</table>\n",
       "<p>100 rows × 10 columns</p>\n",
       "</div>"
      ],
      "text/plain": [
       "           Y         a         b         c         d         e         f  \\\n",
       "0   0.387529  0.425310  0.510009  0.531293  0.879415  0.717303  0.498320   \n",
       "1   0.864926  0.401659  0.798173  0.369426  0.491640  0.701778  0.210393   \n",
       "2   0.730754  0.238299  0.948557  0.277242  0.296627  0.539865  0.066170   \n",
       "3   0.123258  0.162917  0.169395  0.256439  0.698971  0.811325  0.807450   \n",
       "4   0.732579  0.251616  0.434659  0.635124  0.250221  0.418606  0.069816   \n",
       "..       ...       ...       ...       ...       ...       ...       ...   \n",
       "95  0.827119  0.619119  0.760110  0.902035  0.793325  0.549889  0.700301   \n",
       "96  0.910496  0.448485  0.441120  0.090961  0.040780  0.518264  0.175147   \n",
       "97  0.977979  0.995433  0.524310  0.004351  0.474944  0.526743  0.425037   \n",
       "98  0.743542  0.173305  0.431242  0.419274  0.361661  0.960040  0.216498   \n",
       "99  0.919377  0.680064  0.264393  0.296932  0.932704  0.696012  0.905913   \n",
       "\n",
       "           g         h         i  \n",
       "0   0.029916  0.712675  0.490898  \n",
       "1   0.699185  0.782519  0.759716  \n",
       "2   0.037404  0.993835  0.040385  \n",
       "3   0.437022  0.468562  0.087723  \n",
       "4   0.653540  0.382762  0.783074  \n",
       "..       ...       ...       ...  \n",
       "95  0.340021  0.946308  0.943755  \n",
       "96  0.062928  0.103730  0.529514  \n",
       "97  0.179344  0.046495  0.122892  \n",
       "98  0.773711  0.177325  0.886849  \n",
       "99  0.560505  0.404454  0.740446  \n",
       "\n",
       "[100 rows x 10 columns]"
      ]
     },
     "execution_count": 70,
     "metadata": {},
     "output_type": "execute_result"
    }
   ],
   "source": [
    "# test\n",
    "ncol = 10\n",
    "df = pd.DataFrame(np.random.rand(100,ncol), columns = ['Y'] + alp[:ncol-1])\n",
    "df"
   ]
  },
  {
   "cell_type": "code",
   "execution_count": 71,
   "metadata": {},
   "outputs": [
    {
     "data": {
      "text/html": [
       "<div>\n",
       "<style scoped>\n",
       "    .dataframe tbody tr th:only-of-type {\n",
       "        vertical-align: middle;\n",
       "    }\n",
       "\n",
       "    .dataframe tbody tr th {\n",
       "        vertical-align: top;\n",
       "    }\n",
       "\n",
       "    .dataframe thead th {\n",
       "        text-align: right;\n",
       "    }\n",
       "</style>\n",
       "<table border=\"1\" class=\"dataframe\">\n",
       "  <thead>\n",
       "    <tr style=\"text-align: right;\">\n",
       "      <th></th>\n",
       "      <th>Y</th>\n",
       "      <th>a</th>\n",
       "      <th>b</th>\n",
       "      <th>c</th>\n",
       "      <th>d</th>\n",
       "      <th>e</th>\n",
       "      <th>f</th>\n",
       "      <th>g</th>\n",
       "      <th>h</th>\n",
       "      <th>i</th>\n",
       "      <th>category</th>\n",
       "    </tr>\n",
       "  </thead>\n",
       "  <tbody>\n",
       "    <tr>\n",
       "      <th>0</th>\n",
       "      <td>0.387529</td>\n",
       "      <td>0.425310</td>\n",
       "      <td>0.510009</td>\n",
       "      <td>0.531293</td>\n",
       "      <td>0.879415</td>\n",
       "      <td>0.717303</td>\n",
       "      <td>0.498320</td>\n",
       "      <td>0.029916</td>\n",
       "      <td>0.712675</td>\n",
       "      <td>0.490898</td>\n",
       "      <td>M</td>\n",
       "    </tr>\n",
       "    <tr>\n",
       "      <th>1</th>\n",
       "      <td>0.864926</td>\n",
       "      <td>0.401659</td>\n",
       "      <td>0.798173</td>\n",
       "      <td>0.369426</td>\n",
       "      <td>0.491640</td>\n",
       "      <td>0.701778</td>\n",
       "      <td>0.210393</td>\n",
       "      <td>0.699185</td>\n",
       "      <td>0.782519</td>\n",
       "      <td>0.759716</td>\n",
       "      <td>M</td>\n",
       "    </tr>\n",
       "    <tr>\n",
       "      <th>2</th>\n",
       "      <td>0.730754</td>\n",
       "      <td>0.238299</td>\n",
       "      <td>0.948557</td>\n",
       "      <td>0.277242</td>\n",
       "      <td>0.296627</td>\n",
       "      <td>0.539865</td>\n",
       "      <td>0.066170</td>\n",
       "      <td>0.037404</td>\n",
       "      <td>0.993835</td>\n",
       "      <td>0.040385</td>\n",
       "      <td>S</td>\n",
       "    </tr>\n",
       "    <tr>\n",
       "      <th>3</th>\n",
       "      <td>0.123258</td>\n",
       "      <td>0.162917</td>\n",
       "      <td>0.169395</td>\n",
       "      <td>0.256439</td>\n",
       "      <td>0.698971</td>\n",
       "      <td>0.811325</td>\n",
       "      <td>0.807450</td>\n",
       "      <td>0.437022</td>\n",
       "      <td>0.468562</td>\n",
       "      <td>0.087723</td>\n",
       "      <td>S</td>\n",
       "    </tr>\n",
       "    <tr>\n",
       "      <th>4</th>\n",
       "      <td>0.732579</td>\n",
       "      <td>0.251616</td>\n",
       "      <td>0.434659</td>\n",
       "      <td>0.635124</td>\n",
       "      <td>0.250221</td>\n",
       "      <td>0.418606</td>\n",
       "      <td>0.069816</td>\n",
       "      <td>0.653540</td>\n",
       "      <td>0.382762</td>\n",
       "      <td>0.783074</td>\n",
       "      <td>S</td>\n",
       "    </tr>\n",
       "    <tr>\n",
       "      <th>...</th>\n",
       "      <td>...</td>\n",
       "      <td>...</td>\n",
       "      <td>...</td>\n",
       "      <td>...</td>\n",
       "      <td>...</td>\n",
       "      <td>...</td>\n",
       "      <td>...</td>\n",
       "      <td>...</td>\n",
       "      <td>...</td>\n",
       "      <td>...</td>\n",
       "      <td>...</td>\n",
       "    </tr>\n",
       "    <tr>\n",
       "      <th>95</th>\n",
       "      <td>0.827119</td>\n",
       "      <td>0.619119</td>\n",
       "      <td>0.760110</td>\n",
       "      <td>0.902035</td>\n",
       "      <td>0.793325</td>\n",
       "      <td>0.549889</td>\n",
       "      <td>0.700301</td>\n",
       "      <td>0.340021</td>\n",
       "      <td>0.946308</td>\n",
       "      <td>0.943755</td>\n",
       "      <td>M</td>\n",
       "    </tr>\n",
       "    <tr>\n",
       "      <th>96</th>\n",
       "      <td>0.910496</td>\n",
       "      <td>0.448485</td>\n",
       "      <td>0.441120</td>\n",
       "      <td>0.090961</td>\n",
       "      <td>0.040780</td>\n",
       "      <td>0.518264</td>\n",
       "      <td>0.175147</td>\n",
       "      <td>0.062928</td>\n",
       "      <td>0.103730</td>\n",
       "      <td>0.529514</td>\n",
       "      <td>M</td>\n",
       "    </tr>\n",
       "    <tr>\n",
       "      <th>97</th>\n",
       "      <td>0.977979</td>\n",
       "      <td>0.995433</td>\n",
       "      <td>0.524310</td>\n",
       "      <td>0.004351</td>\n",
       "      <td>0.474944</td>\n",
       "      <td>0.526743</td>\n",
       "      <td>0.425037</td>\n",
       "      <td>0.179344</td>\n",
       "      <td>0.046495</td>\n",
       "      <td>0.122892</td>\n",
       "      <td>L</td>\n",
       "    </tr>\n",
       "    <tr>\n",
       "      <th>98</th>\n",
       "      <td>0.743542</td>\n",
       "      <td>0.173305</td>\n",
       "      <td>0.431242</td>\n",
       "      <td>0.419274</td>\n",
       "      <td>0.361661</td>\n",
       "      <td>0.960040</td>\n",
       "      <td>0.216498</td>\n",
       "      <td>0.773711</td>\n",
       "      <td>0.177325</td>\n",
       "      <td>0.886849</td>\n",
       "      <td>S</td>\n",
       "    </tr>\n",
       "    <tr>\n",
       "      <th>99</th>\n",
       "      <td>0.919377</td>\n",
       "      <td>0.680064</td>\n",
       "      <td>0.264393</td>\n",
       "      <td>0.296932</td>\n",
       "      <td>0.932704</td>\n",
       "      <td>0.696012</td>\n",
       "      <td>0.905913</td>\n",
       "      <td>0.560505</td>\n",
       "      <td>0.404454</td>\n",
       "      <td>0.740446</td>\n",
       "      <td>L</td>\n",
       "    </tr>\n",
       "  </tbody>\n",
       "</table>\n",
       "<p>100 rows × 11 columns</p>\n",
       "</div>"
      ],
      "text/plain": [
       "           Y         a         b         c         d         e         f  \\\n",
       "0   0.387529  0.425310  0.510009  0.531293  0.879415  0.717303  0.498320   \n",
       "1   0.864926  0.401659  0.798173  0.369426  0.491640  0.701778  0.210393   \n",
       "2   0.730754  0.238299  0.948557  0.277242  0.296627  0.539865  0.066170   \n",
       "3   0.123258  0.162917  0.169395  0.256439  0.698971  0.811325  0.807450   \n",
       "4   0.732579  0.251616  0.434659  0.635124  0.250221  0.418606  0.069816   \n",
       "..       ...       ...       ...       ...       ...       ...       ...   \n",
       "95  0.827119  0.619119  0.760110  0.902035  0.793325  0.549889  0.700301   \n",
       "96  0.910496  0.448485  0.441120  0.090961  0.040780  0.518264  0.175147   \n",
       "97  0.977979  0.995433  0.524310  0.004351  0.474944  0.526743  0.425037   \n",
       "98  0.743542  0.173305  0.431242  0.419274  0.361661  0.960040  0.216498   \n",
       "99  0.919377  0.680064  0.264393  0.296932  0.932704  0.696012  0.905913   \n",
       "\n",
       "           g         h         i category  \n",
       "0   0.029916  0.712675  0.490898        M  \n",
       "1   0.699185  0.782519  0.759716        M  \n",
       "2   0.037404  0.993835  0.040385        S  \n",
       "3   0.437022  0.468562  0.087723        S  \n",
       "4   0.653540  0.382762  0.783074        S  \n",
       "..       ...       ...       ...      ...  \n",
       "95  0.340021  0.946308  0.943755        M  \n",
       "96  0.062928  0.103730  0.529514        M  \n",
       "97  0.179344  0.046495  0.122892        L  \n",
       "98  0.773711  0.177325  0.886849        S  \n",
       "99  0.560505  0.404454  0.740446        L  \n",
       "\n",
       "[100 rows x 11 columns]"
      ]
     },
     "execution_count": 71,
     "metadata": {},
     "output_type": "execute_result"
    }
   ],
   "source": [
    "bins= [0,0.33,0.66,1]\n",
    "labels = ['S','M','L']\n",
    "df['category'] = pd.cut(df.a, bins=bins, labels=labels, right=False)\n",
    "df"
   ]
  },
  {
   "cell_type": "markdown",
   "metadata": {},
   "source": [
    "# correlation test \n",
    "\n",
    "检查各feature之间是否有相关性"
   ]
  },
  {
   "cell_type": "code",
   "execution_count": 72,
   "metadata": {},
   "outputs": [],
   "source": [
    "import seaborn as sns\n",
    "import matplotlib.pyplot as plt"
   ]
  },
  {
   "cell_type": "code",
   "execution_count": 73,
   "metadata": {},
   "outputs": [],
   "source": [
    "def draw_corr(corr):\n",
    "    mask = np.zeros_like(corr, dtype=np.bool)\n",
    "    mask[np.triu_indices_from(mask)] = True\n",
    "\n",
    "    cmap = sns.diverging_palette(220, 10, as_cmap=True)\n",
    "\n",
    "    # Draw the heatmap with the mask and correct aspect ratio\n",
    "    f, ax = plt.subplots(figsize=(11, 9))\n",
    "    sns.heatmap(corr, mask=mask, cmap=cmap, center=0,\n",
    "                square=True, linewidths=.5, cbar_kws={\"shrink\": .5})"
   ]
  },
  {
   "cell_type": "code",
   "execution_count": 74,
   "metadata": {},
   "outputs": [
    {
     "data": {
      "image/png": "[encoded data removed]",
      "text/plain": [
       "<Figure size 792x648 with 2 Axes>"
      ]
     },
     "metadata": {
      "needs_background": "light"
     },
     "output_type": "display_data"
    }
   ],
   "source": [
    "draw_corr(df.corr())"
   ]
  },
  {
   "cell_type": "markdown",
   "metadata": {},
   "source": [
    "# two sample t test \n",
    "\n",
    "检查两组的平均值是否相同"
   ]
  },
  {
   "cell_type": "code",
   "execution_count": 75,
   "metadata": {},
   "outputs": [],
   "source": [
    "from scipy import stats"
   ]
  },
  {
   "cell_type": "code",
   "execution_count": 107,
   "metadata": {},
   "outputs": [
    {
     "name": "stdout",
     "output_type": "stream",
     "text": [
      "T-Statistic=0.708, p=0.480\n"
     ]
    }
   ],
   "source": [
    "rvs1 = df.a\n",
    "rvs2 = df.b\n",
    "T, p = stats.ttest_ind(rvs1,rvs2)\n",
    "print('T-Statistic=%.3f, p=%.3f' % (T, p))"
   ]
  },
  {
   "cell_type": "markdown",
   "metadata": {},
   "source": [
    "# anova for linear regression \n",
    "\n",
    "检查哪个feature是significant predictor"
   ]
  },
  {
   "cell_type": "code",
   "execution_count": 78,
   "metadata": {},
   "outputs": [
    {
     "data": {
      "text/plain": [
       "'a+b+c+d+e+f+g+h+i'"
      ]
     },
     "execution_count": 78,
     "metadata": {},
     "output_type": "execute_result"
    }
   ],
   "source": [
    "all_cols = \"+\".join([x for x in df.columns[1:-1]])\n",
    "all_cols"
   ]
  },
  {
   "cell_type": "code",
   "execution_count": 79,
   "metadata": {},
   "outputs": [],
   "source": [
    "import statsmodels.api as sm\n",
    "from statsmodels.formula.api import ols"
   ]
  },
  {
   "cell_type": "code",
   "execution_count": 131,
   "metadata": {},
   "outputs": [],
   "source": [
    "test_lm = ols('Y ~ ' + all_cols, data = df).fit()"
   ]
  },
  {
   "cell_type": "code",
   "execution_count": 93,
   "metadata": {},
   "outputs": [],
   "source": [
    "# test_lm.summary()"
   ]
  },
  {
   "cell_type": "code",
   "execution_count": 82,
   "metadata": {},
   "outputs": [
    {
     "data": {
      "text/html": [
       "<div>\n",
       "<style scoped>\n",
       "    .dataframe tbody tr th:only-of-type {\n",
       "        vertical-align: middle;\n",
       "    }\n",
       "\n",
       "    .dataframe tbody tr th {\n",
       "        vertical-align: top;\n",
       "    }\n",
       "\n",
       "    .dataframe thead th {\n",
       "        text-align: right;\n",
       "    }\n",
       "</style>\n",
       "<table border=\"1\" class=\"dataframe\">\n",
       "  <thead>\n",
       "    <tr style=\"text-align: right;\">\n",
       "      <th></th>\n",
       "      <th>df</th>\n",
       "      <th>sum_sq</th>\n",
       "      <th>mean_sq</th>\n",
       "      <th>F</th>\n",
       "      <th>PR(&gt;F)</th>\n",
       "    </tr>\n",
       "  </thead>\n",
       "  <tbody>\n",
       "    <tr>\n",
       "      <th>a</th>\n",
       "      <td>1.0</td>\n",
       "      <td>0.000032</td>\n",
       "      <td>0.000032</td>\n",
       "      <td>0.000388</td>\n",
       "      <td>0.984328</td>\n",
       "    </tr>\n",
       "    <tr>\n",
       "      <th>b</th>\n",
       "      <td>1.0</td>\n",
       "      <td>0.051423</td>\n",
       "      <td>0.051423</td>\n",
       "      <td>0.624562</td>\n",
       "      <td>0.431434</td>\n",
       "    </tr>\n",
       "    <tr>\n",
       "      <th>c</th>\n",
       "      <td>1.0</td>\n",
       "      <td>0.006273</td>\n",
       "      <td>0.006273</td>\n",
       "      <td>0.076194</td>\n",
       "      <td>0.783157</td>\n",
       "    </tr>\n",
       "    <tr>\n",
       "      <th>d</th>\n",
       "      <td>1.0</td>\n",
       "      <td>0.008624</td>\n",
       "      <td>0.008624</td>\n",
       "      <td>0.104749</td>\n",
       "      <td>0.746954</td>\n",
       "    </tr>\n",
       "    <tr>\n",
       "      <th>e</th>\n",
       "      <td>1.0</td>\n",
       "      <td>0.236390</td>\n",
       "      <td>0.236390</td>\n",
       "      <td>2.871117</td>\n",
       "      <td>0.093640</td>\n",
       "    </tr>\n",
       "    <tr>\n",
       "      <th>f</th>\n",
       "      <td>1.0</td>\n",
       "      <td>0.006463</td>\n",
       "      <td>0.006463</td>\n",
       "      <td>0.078496</td>\n",
       "      <td>0.779989</td>\n",
       "    </tr>\n",
       "    <tr>\n",
       "      <th>g</th>\n",
       "      <td>1.0</td>\n",
       "      <td>0.101103</td>\n",
       "      <td>0.101103</td>\n",
       "      <td>1.227966</td>\n",
       "      <td>0.270756</td>\n",
       "    </tr>\n",
       "    <tr>\n",
       "      <th>h</th>\n",
       "      <td>1.0</td>\n",
       "      <td>0.000029</td>\n",
       "      <td>0.000029</td>\n",
       "      <td>0.000352</td>\n",
       "      <td>0.985082</td>\n",
       "    </tr>\n",
       "    <tr>\n",
       "      <th>i</th>\n",
       "      <td>1.0</td>\n",
       "      <td>0.105508</td>\n",
       "      <td>0.105508</td>\n",
       "      <td>1.281467</td>\n",
       "      <td>0.260634</td>\n",
       "    </tr>\n",
       "    <tr>\n",
       "      <th>Residual</th>\n",
       "      <td>90.0</td>\n",
       "      <td>7.410033</td>\n",
       "      <td>0.082334</td>\n",
       "      <td>NaN</td>\n",
       "      <td>NaN</td>\n",
       "    </tr>\n",
       "  </tbody>\n",
       "</table>\n",
       "</div>"
      ],
      "text/plain": [
       "            df    sum_sq   mean_sq         F    PR(>F)\n",
       "a          1.0  0.000032  0.000032  0.000388  0.984328\n",
       "b          1.0  0.051423  0.051423  0.624562  0.431434\n",
       "c          1.0  0.006273  0.006273  0.076194  0.783157\n",
       "d          1.0  0.008624  0.008624  0.104749  0.746954\n",
       "e          1.0  0.236390  0.236390  2.871117  0.093640\n",
       "f          1.0  0.006463  0.006463  0.078496  0.779989\n",
       "g          1.0  0.101103  0.101103  1.227966  0.270756\n",
       "h          1.0  0.000029  0.000029  0.000352  0.985082\n",
       "i          1.0  0.105508  0.105508  1.281467  0.260634\n",
       "Residual  90.0  7.410033  0.082334       NaN       NaN"
      ]
     },
     "execution_count": 82,
     "metadata": {},
     "output_type": "execute_result"
    }
   ],
   "source": [
    "reg_anova = sm.stats.anova_lm(test_lm)\n",
    "reg_anova"
   ]
  },
  {
   "cell_type": "markdown",
   "metadata": {},
   "source": [
    "# one way anova \n",
    "检查一个feature中的不同组的mean是否相同"
   ]
  },
  {
   "cell_type": "code",
   "execution_count": 84,
   "metadata": {
    "scrolled": true
   },
   "outputs": [
    {
     "name": "stdout",
     "output_type": "stream",
     "text": [
      "F-Statistic=0.053, p=0.948\n"
     ]
    }
   ],
   "source": [
    "s = df[df.category == 'S'].Y\n",
    "m = df[df.category == 'M'].Y\n",
    "l = df[df.category == 'L'].Y\n",
    "\n",
    "F, p = stats.f_oneway(s, m, l)\n",
    "print('F-Statistic=%.3f, p=%.3f' % (F, p))"
   ]
  },
  {
   "cell_type": "code",
   "execution_count": 149,
   "metadata": {},
   "outputs": [
    {
     "data": {
      "text/plain": [
       "0.053430131752667254"
      ]
     },
     "execution_count": 149,
     "metadata": {},
     "output_type": "execute_result"
    }
   ],
   "source": [
    "ols('Y~C(category)', data = df).fit().fvalue"
   ]
  },
  {
   "cell_type": "markdown",
   "metadata": {},
   "source": [
    "# tukey pairwise test \n",
    "检查一个feature中的不同组的mean是否两两相同\n"
   ]
  },
  {
   "cell_type": "code",
   "execution_count": 85,
   "metadata": {},
   "outputs": [],
   "source": [
    "from statsmodels.stats.multicomp import pairwise_tukeyhsd"
   ]
  },
  {
   "cell_type": "code",
   "execution_count": 87,
   "metadata": {},
   "outputs": [
    {
     "name": "stdout",
     "output_type": "stream",
     "text": [
      "Multiple Comparison of Means - Tukey HSD, FWER=0.05\n",
      "==================================================\n",
      "group1 group2 meandiff p-adj  lower  upper  reject\n",
      "--------------------------------------------------\n",
      "     L      M   0.0137   0.9 -0.1505 0.1779  False\n",
      "     L      S  -0.0097   0.9 -0.1753 0.1559  False\n",
      "     M      S  -0.0234   0.9 -0.1948  0.148  False\n",
      "--------------------------------------------------\n"
     ]
    }
   ],
   "source": [
    "tukey = pairwise_tukeyhsd(endog=df.Y,\n",
    "                          groups=df.category,\n",
    "                          alpha=0.05)\n",
    "\n",
    "print(tukey)"
   ]
  },
  {
   "cell_type": "markdown",
   "metadata": {},
   "source": [
    "# one way ancova \n",
    "控制另一个feature  检查一个feature中的不同组的mean是否相同"
   ]
  },
  {
   "cell_type": "code",
   "execution_count": 121,
   "metadata": {
    "collapsed": true
   },
   "outputs": [
    {
     "name": "stdout",
     "output_type": "stream",
     "text": [
      "Collecting pingouin\n",
      "  Downloading pingouin-0.3.11.tar.gz (204 kB)\n",
      "\u001b[K     |████████████████████████████████| 204 kB 94 kB/s eta 0:00:01\n",
      "\u001b[?25hRequirement already satisfied: numpy>=1.15 in /Users/silvia/opt/anaconda3/lib/python3.7/site-packages (from pingouin) (1.19.5)\n",
      "Requirement already satisfied: scipy>=1.3 in /Users/silvia/opt/anaconda3/lib/python3.7/site-packages (from pingouin) (1.5.0)\n",
      "Requirement already satisfied: pandas>=0.24 in /Users/silvia/opt/anaconda3/lib/python3.7/site-packages (from pingouin) (1.2.3)\n",
      "Requirement already satisfied: matplotlib>=3.0.2 in /Users/silvia/opt/anaconda3/lib/python3.7/site-packages (from pingouin) (3.2.2)\n",
      "Requirement already satisfied: seaborn>=0.9.0 in /Users/silvia/opt/anaconda3/lib/python3.7/site-packages (from pingouin) (0.10.1)\n",
      "Requirement already satisfied: statsmodels>=0.10.0 in /Users/silvia/opt/anaconda3/lib/python3.7/site-packages (from pingouin) (0.11.1)\n",
      "Requirement already satisfied: scikit-learn in /Users/silvia/opt/anaconda3/lib/python3.7/site-packages (from pingouin) (0.24.1)\n",
      "Collecting pandas_flavor>=0.1.2\n",
      "  Downloading pandas_flavor-0.2.0-py2.py3-none-any.whl (6.6 kB)\n",
      "Collecting outdated\n",
      "  Downloading outdated-0.2.1-py3-none-any.whl (7.5 kB)\n",
      "Collecting tabulate\n",
      "  Downloading tabulate-0.8.9-py3-none-any.whl (25 kB)\n",
      "Requirement already satisfied: pytz>=2017.3 in /Users/silvia/opt/anaconda3/lib/python3.7/site-packages (from pandas>=0.24->pingouin) (2020.1)\n",
      "Requirement already satisfied: python-dateutil>=2.7.3 in /Users/silvia/opt/anaconda3/lib/python3.7/site-packages (from pandas>=0.24->pingouin) (2.8.1)\n",
      "Requirement already satisfied: cycler>=0.10 in /Users/silvia/opt/anaconda3/lib/python3.7/site-packages (from matplotlib>=3.0.2->pingouin) (0.10.0)\n",
      "Requirement already satisfied: kiwisolver>=1.0.1 in /Users/silvia/opt/anaconda3/lib/python3.7/site-packages (from matplotlib>=3.0.2->pingouin) (1.2.0)\n",
      "Requirement already satisfied: pyparsing!=2.0.4,!=2.1.2,!=2.1.6,>=2.0.1 in /Users/silvia/opt/anaconda3/lib/python3.7/site-packages (from matplotlib>=3.0.2->pingouin) (2.4.7)\n",
      "Requirement already satisfied: patsy>=0.5 in /Users/silvia/opt/anaconda3/lib/python3.7/site-packages (from statsmodels>=0.10.0->pingouin) (0.5.1)\n",
      "Requirement already satisfied: joblib>=0.11 in /Users/silvia/opt/anaconda3/lib/python3.7/site-packages (from scikit-learn->pingouin) (0.16.0)\n",
      "Requirement already satisfied: threadpoolctl>=2.0.0 in /Users/silvia/opt/anaconda3/lib/python3.7/site-packages (from scikit-learn->pingouin) (2.1.0)\n",
      "Collecting xarray\n",
      "  Downloading xarray-0.17.0-py3-none-any.whl (759 kB)\n",
      "\u001b[K     |████████████████████████████████| 759 kB 685 kB/s eta 0:00:01\n",
      "\u001b[?25hRequirement already satisfied: requests in /Users/silvia/opt/anaconda3/lib/python3.7/site-packages (from outdated->pingouin) (2.24.0)\n",
      "Collecting littleutils\n",
      "  Downloading littleutils-0.2.2.tar.gz (6.6 kB)\n",
      "Requirement already satisfied: six>=1.5 in /Users/silvia/opt/anaconda3/lib/python3.7/site-packages (from python-dateutil>=2.7.3->pandas>=0.24->pingouin) (1.15.0)\n",
      "Requirement already satisfied: setuptools>=40.4 in /Users/silvia/opt/anaconda3/lib/python3.7/site-packages (from xarray->pandas_flavor>=0.1.2->pingouin) (49.6.0.post20200814)\n",
      "Requirement already satisfied: chardet<4,>=3.0.2 in /Users/silvia/opt/anaconda3/lib/python3.7/site-packages (from requests->outdated->pingouin) (3.0.4)\n",
      "Requirement already satisfied: certifi>=2017.4.17 in /Users/silvia/opt/anaconda3/lib/python3.7/site-packages (from requests->outdated->pingouin) (2020.12.5)\n",
      "Requirement already satisfied: urllib3!=1.25.0,!=1.25.1,<1.26,>=1.21.1 in /Users/silvia/opt/anaconda3/lib/python3.7/site-packages (from requests->outdated->pingouin) (1.25.10)\n",
      "Requirement already satisfied: idna<3,>=2.5 in /Users/silvia/opt/anaconda3/lib/python3.7/site-packages (from requests->outdated->pingouin) (2.10)\n",
      "Building wheels for collected packages: pingouin, littleutils\n",
      "  Building wheel for pingouin (setup.py) ... \u001b[?25ldone\n",
      "\u001b[?25h  Created wheel for pingouin: filename=pingouin-0.3.11-py3-none-any.whl size=203323 sha256=1db3be4d8b074d829cdb803a4308c6da6531616fd1d87e858bdce4ebda3fda5f\n",
      "  Stored in directory: /Users/silvia/Library/Caches/pip/wheels/74/6d/d2/9320ff7695f6983f4394c10630792f4bd4c8351facfd39b649\n",
      "  Building wheel for littleutils (setup.py) ... \u001b[?25ldone\n",
      "\u001b[?25h  Created wheel for littleutils: filename=littleutils-0.2.2-py3-none-any.whl size=7048 sha256=c52d9cc8ece4aab3041c5e2c769045975cf0b2bb3edd598c0511d48b92651078\n",
      "  Stored in directory: /Users/silvia/Library/Caches/pip/wheels/d6/64/cd/32819b511a488e4993f2fab909a95330289c3f4e0f6ef4676d\n",
      "Successfully built pingouin littleutils\n",
      "Installing collected packages: xarray, pandas-flavor, littleutils, outdated, tabulate, pingouin\n",
      "Successfully installed littleutils-0.2.2 outdated-0.2.1 pandas-flavor-0.2.0 pingouin-0.3.11 tabulate-0.8.9 xarray-0.17.0\n",
      "Note: you may need to restart the kernel to use updated packages.\n"
     ]
    }
   ],
   "source": [
    "!pip install pingouin"
   ]
  },
  {
   "cell_type": "code",
   "execution_count": 150,
   "metadata": {},
   "outputs": [
    {
     "data": {
      "text/html": [
       "<div>\n",
       "<style scoped>\n",
       "    .dataframe tbody tr th:only-of-type {\n",
       "        vertical-align: middle;\n",
       "    }\n",
       "\n",
       "    .dataframe tbody tr th {\n",
       "        vertical-align: top;\n",
       "    }\n",
       "\n",
       "    .dataframe thead th {\n",
       "        text-align: right;\n",
       "    }\n",
       "</style>\n",
       "<table border=\"1\" class=\"dataframe\">\n",
       "  <thead>\n",
       "    <tr style=\"text-align: right;\">\n",
       "      <th></th>\n",
       "      <th>Source</th>\n",
       "      <th>SS</th>\n",
       "      <th>DF</th>\n",
       "      <th>F</th>\n",
       "      <th>p-unc</th>\n",
       "      <th>np2</th>\n",
       "    </tr>\n",
       "  </thead>\n",
       "  <tbody>\n",
       "    <tr>\n",
       "      <th>0</th>\n",
       "      <td>category</td>\n",
       "      <td>0.010538</td>\n",
       "      <td>2</td>\n",
       "      <td>0.063967</td>\n",
       "      <td>0.938076</td>\n",
       "      <td>0.001331</td>\n",
       "    </tr>\n",
       "    <tr>\n",
       "      <th>1</th>\n",
       "      <td>c</td>\n",
       "      <td>0.009832</td>\n",
       "      <td>1</td>\n",
       "      <td>0.119364</td>\n",
       "      <td>0.730481</td>\n",
       "      <td>0.001242</td>\n",
       "    </tr>\n",
       "    <tr>\n",
       "      <th>2</th>\n",
       "      <td>Residual</td>\n",
       "      <td>7.907324</td>\n",
       "      <td>96</td>\n",
       "      <td>NaN</td>\n",
       "      <td>NaN</td>\n",
       "      <td>NaN</td>\n",
       "    </tr>\n",
       "  </tbody>\n",
       "</table>\n",
       "</div>"
      ],
      "text/plain": [
       "     Source        SS  DF         F     p-unc       np2\n",
       "0  category  0.010538   2  0.063967  0.938076  0.001331\n",
       "1         c  0.009832   1  0.119364  0.730481  0.001242\n",
       "2  Residual  7.907324  96       NaN       NaN       NaN"
      ]
     },
     "execution_count": 150,
     "metadata": {},
     "output_type": "execute_result"
    }
   ],
   "source": [
    "from pingouin import ancova\n",
    "\n",
    "#perform ANCOVA\n",
    "ancova(data=df, dv='Y', between='category', covar='c')"
   ]
  },
  {
   "cell_type": "markdown",
   "metadata": {},
   "source": [
    "Dummy variable的方法FAIL了，待研究"
   ]
  },
  {
   "cell_type": "code",
   "execution_count": 138,
   "metadata": {},
   "outputs": [],
   "source": [
    "df_dummy = pd.concat([df.Y, pd.get_dummies(df.category)], axis = 1)"
   ]
  },
  {
   "cell_type": "code",
   "execution_count": 139,
   "metadata": {},
   "outputs": [],
   "source": [
    "# import random\n",
    "\n",
    "# c1 = [0]*int(len(df_dummy)/2) + [1]*(len(df_dummy) - int(len(df_dummy)/2))\n",
    "# c2 = [0]*int(len(df_dummy)/2) + [1]*(len(df_dummy) - int(len(df_dummy)/2))\n",
    "# random.shuffle(c1)\n",
    "# random.shuffle(c2)\n",
    "# df_dummy['c1'] = c1\n",
    "# df_dummy['c2'] = c2\n",
    "# df_dummy\n"
   ]
  },
  {
   "cell_type": "code",
   "execution_count": 141,
   "metadata": {},
   "outputs": [],
   "source": [
    "df_dummy['c'] = df.c"
   ]
  },
  {
   "cell_type": "code",
   "execution_count": 147,
   "metadata": {},
   "outputs": [
    {
     "data": {
      "text/plain": [
       "0.07508465435948238"
      ]
     },
     "execution_count": 147,
     "metadata": {},
     "output_type": "execute_result"
    }
   ],
   "source": [
    "ancova1 = ols('Y ~ S + M + L + c', data = df_dummy).fit()\n",
    "# ancova1.summary()\n",
    "ancova1.fvalue"
   ]
  },
  {
   "cell_type": "code",
   "execution_count": 148,
   "metadata": {},
   "outputs": [
    {
     "data": {
      "text/plain": [
       "0.07508465435947877"
      ]
     },
     "execution_count": 148,
     "metadata": {},
     "output_type": "execute_result"
    }
   ],
   "source": [
    "ancova2 = ols('Y~C(category) + c', data = df).fit()\n",
    "# ancova2.summary()\n",
    "ancova2.fvalue"
   ]
  }
 ],
 "metadata": {
  "kernelspec": {
   "display_name": "Python 3",
   "language": "python",
   "name": "python3"
  },
  "language_info": {
   "codemirror_mode": {
    "name": "ipython",
    "version": 3
   },
   "file_extension": ".py",
   "mimetype": "text/x-python",
   "name": "python",
   "nbconvert_exporter": "python",
   "pygments_lexer": "ipython3",
   "version": "3.7.7"
  }
 },
 "nbformat": 4,
 "nbformat_minor": 4
}
